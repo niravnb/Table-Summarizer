{
  "nbformat": 4,
  "nbformat_minor": 0,
  "metadata": {
    "colab": {
      "name": "Copy of Weather data summarizer.ipynb",
      "provenance": [],
      "collapsed_sections": []
    },
    "kernelspec": {
      "name": "python3",
      "display_name": "Python 3"
    },
    "accelerator": "GPU"
  },
  "cells": [
    {
      "cell_type": "code",
      "metadata": {
        "id": "-JzteLqDVJk4",
        "colab_type": "code",
        "outputId": "945a6774-9424-42a4-a8cd-93e2e3624704",
        "colab": {
          "base_uri": "https://localhost:8080/",
          "height": 122
        }
      },
      "source": [
        "from google.colab import drive\n",
        "drive.mount('/content/gdrive')"
      ],
      "execution_count": 0,
      "outputs": [
        {
          "output_type": "stream",
          "text": [
            "Go to this URL in a browser: https://accounts.google.com/o/oauth2/auth?client_id=947318989803-6bn6qk8qdgf4n4g3pfee6491hc0brc4i.apps.googleusercontent.com&redirect_uri=urn%3aietf%3awg%3aoauth%3a2.0%3aoob&response_type=code&scope=email%20https%3a%2f%2fwww.googleapis.com%2fauth%2fdocs.test%20https%3a%2f%2fwww.googleapis.com%2fauth%2fdrive%20https%3a%2f%2fwww.googleapis.com%2fauth%2fdrive.photos.readonly%20https%3a%2f%2fwww.googleapis.com%2fauth%2fpeopleapi.readonly\n",
            "\n",
            "Enter your authorization code:\n",
            "··········\n",
            "Mounted at /content/gdrive\n"
          ],
          "name": "stdout"
        }
      ]
    },
    {
      "cell_type": "code",
      "metadata": {
        "id": "GHepkYf8VhpE",
        "colab_type": "code",
        "outputId": "d71c2f65-c216-40df-b48b-1f10fac04647",
        "colab": {
          "base_uri": "https://localhost:8080/",
          "height": 187
        }
      },
      "source": [
        "!ls '/content/gdrive/My Drive/Resume DL Projects'\n"
      ],
      "execution_count": 0,
      "outputs": [
        {
          "output_type": "stream",
          "text": [
            "exp-basic.ipynb\n",
            "facenet_keras.h5\n",
            "Facial_recognition.ipynb\n",
            "How_to_build_own_text_summarizer_using_deep_learning.ipynb\n",
            "neural-machine-translation-with-attention-dates.ipynb\n",
            "summarizing-text-with-amazon-reviews.ipynb\n",
            "text-summarization-with-seq2seq-model.ipynb\n",
            "Text_summarizer.ipynb\n",
            "unidir_model.h5\n",
            "weather_summ.h5\n"
          ],
          "name": "stdout"
        }
      ]
    },
    {
      "cell_type": "code",
      "metadata": {
        "id": "Cz-4Jk50x_Gw",
        "colab_type": "code",
        "outputId": "525529f7-2966-480a-876c-21fbf9023cf1",
        "colab": {
          "base_uri": "https://localhost:8080/",
          "height": 204
        }
      },
      "source": [
        "!wget https://raw.githubusercontent.com/niravnb/Text-Summarizer/master/WeatherGov.zip"
      ],
      "execution_count": 0,
      "outputs": [
        {
          "output_type": "stream",
          "text": [
            "--2020-06-11 05:06:45--  https://raw.githubusercontent.com/niravnb/Text-Summarizer/master/WeatherGov.zip\n",
            "Resolving raw.githubusercontent.com (raw.githubusercontent.com)... 151.101.0.133, 151.101.64.133, 151.101.128.133, ...\n",
            "Connecting to raw.githubusercontent.com (raw.githubusercontent.com)|151.101.0.133|:443... connected.\n",
            "HTTP request sent, awaiting response... 200 OK\n",
            "Length: 2779488 (2.7M) [application/zip]\n",
            "Saving to: ‘WeatherGov.zip’\n",
            "\n",
            "\rWeatherGov.zip        0%[                    ]       0  --.-KB/s               \rWeatherGov.zip      100%[===================>]   2.65M  --.-KB/s    in 0.1s    \n",
            "\n",
            "2020-06-11 05:06:46 (19.1 MB/s) - ‘WeatherGov.zip’ saved [2779488/2779488]\n",
            "\n"
          ],
          "name": "stdout"
        }
      ]
    },
    {
      "cell_type": "code",
      "metadata": {
        "id": "O8H34ZXLyUbp",
        "colab_type": "code",
        "colab": {}
      },
      "source": [
        "!unzip WeatherGov.zip"
      ],
      "execution_count": 0,
      "outputs": []
    },
    {
      "cell_type": "code",
      "metadata": {
        "id": "-_ORTH5hyubf",
        "colab_type": "code",
        "colab": {}
      },
      "source": [
        "sentences_to_read = 25000"
      ],
      "execution_count": 0,
      "outputs": []
    },
    {
      "cell_type": "code",
      "metadata": {
        "id": "3cf4Ly9Xy1m8",
        "colab_type": "code",
        "outputId": "92191238-1be5-4775-f97f-412bd4b5e9a0",
        "colab": {
          "base_uri": "https://localhost:8080/",
          "height": 258
        }
      },
      "source": [
        "# Loading train.combined as source_sent and summaries.txt as target_sent\n",
        "source_sent = []\n",
        "target_sent = []\n",
        "\n",
        "test_source_sent = []\n",
        "test_target_sent = []\n",
        "\n",
        "\n",
        "with open('WeatherGov/train/train.combined', 'r') as f:\n",
        "    for l_i, line in enumerate(f):\n",
        "        source_sent.append(line)\n",
        "        if len(source_sent)>=sentences_to_read:\n",
        "            break\n",
        "        \n",
        "            \n",
        "with open('WeatherGov/train/summaries.txt', 'r') as f:\n",
        "    for l_i, line in enumerate(f):\n",
        "        target_sent.append(line)\n",
        "        if len(target_sent)>=sentences_to_read:\n",
        "            break\n",
        "        \n",
        "            \n",
        "assert len(source_sent)==len(target_sent),'Source: %d, Target: %d'%(len(source_sent),len(target_sent))\n",
        "\n",
        "print('Sample translations (%d)'%len(source_sent))\n",
        "for i in range(0,sentences_to_read,10000):\n",
        "    print('(',i,') Table: ', source_sent[i])\n",
        "    print('(',i,') Summary: ', target_sent[i])\n"
      ],
      "execution_count": 0,
      "outputs": [
        {
          "output_type": "stream",
          "text": [
            "Sample translations (25000)\n",
            "( 0 ) Table:  temperature time 6-21 min 26 mean 43 max 53 windChill time 6-21 min 0 mean 22 max 46 windSpeed time 6-21 min 6 mean 8 max 10 mode-bucket-0-20-2 0-10 windDir time 6-21 mode SE gust time 6-21 min 0 mean 0 max 0 skyCover time 6-21 mode-bucket-0-100-4 50-75 skyCover time 6-9 mode-bucket-0-100-4 0-25 skyCover time 6-13 mode-bucket-0-100-4 25-50 skyCover time 9-21 mode-bucket-0-100-4 50-75 skyCover time 13-21 mode-bucket-0-100-4 50-75 precipPotential time 6-21 min 0 mean 2 max 12\n",
            "\n",
            "( 0 ) Summary:  Mostly sunny , with a high near 53 . Southeast wind between 7 and 9 mph . \n",
            "\n",
            "( 10000 ) Table:  temperature time 6-21 min 29 mean 31 max 35 windChill time 6-21 min 16 mean 21 max 25 windSpeed time 6-21 min 8 mean 15 max 21 mode-bucket-0-20-2 10-20 windDir time 6-21 mode WNW gust time 6-21 min 0 mean 12 max 29 skyCover time 6-21 mode-bucket-0-100-4 50-75 skyCover time 6-9 mode-bucket-0-100-4 50-75 skyCover time 6-13 mode-bucket-0-100-4 50-75 skyCover time 9-21 mode-bucket-0-100-4 50-75 skyCover time 13-21 mode-bucket-0-100-4 75-100 precipPotential time 6-21 min 15 mean 17 max 18 snowChance time 6-21 mode SChc snowChance time 6-9 mode SChc snowChance time 6-13 mode SChc snowChance time 9-21 mode SChc snowChance time 13-21 mode SChc\n",
            "\n",
            "( 10000 ) Summary:  A 20 percent chance of snow . Mostly cloudy , with a high near 35 . Breezy , with a west northwest wind 8 to 11 mph increasing to between 17 and 20 mph . Winds could gust as high as 28 mph . \n",
            "\n",
            "( 20000 ) Table:  temperature time 17-30 min 44 mean 48 max 57 windChill time 17-30 min 0 mean 29 max 49 windSpeed time 17-30 min 2 mean 2 max 3 mode-bucket-0-20-2 0-10 windDir time 17-30 mode SE gust time 17-30 min 0 mean 0 max 0 skyCover time 17-30 mode-bucket-0-100-4 50-75 skyCover time 17-21 mode-bucket-0-100-4 50-75 skyCover time 17-26 mode-bucket-0-100-4 50-75 skyCover time 21-30 mode-bucket-0-100-4 50-75 skyCover time 26-30 mode-bucket-0-100-4 50-75 precipPotential time 17-30 min 6 mean 11 max 16 rainChance time 26-30 mode SChc\n",
            "\n",
            "( 20000 ) Summary:  A slight chance of showers after 4am . Mostly cloudy , with a low around 43 . Light southeast wind . Chance of precipitation is 20 % . \n",
            "\n"
          ],
          "name": "stdout"
        }
      ]
    },
    {
      "cell_type": "code",
      "metadata": {
        "id": "MT9PP0y6y1qp",
        "colab_type": "code",
        "outputId": "4cba4ebf-2eeb-4b4c-f3df-e347bc7ca168",
        "colab": {
          "base_uri": "https://localhost:8080/",
          "height": 51
        }
      },
      "source": [
        "!pip install nltk"
      ],
      "execution_count": 0,
      "outputs": [
        {
          "output_type": "stream",
          "text": [
            "Requirement already satisfied: nltk in /usr/local/lib/python3.6/dist-packages (3.2.5)\n",
            "Requirement already satisfied: six in /usr/local/lib/python3.6/dist-packages (from nltk) (1.12.0)\n"
          ],
          "name": "stdout"
        }
      ]
    },
    {
      "cell_type": "code",
      "metadata": {
        "id": "2z8jykjt0NKP",
        "colab_type": "code",
        "outputId": "da37da80-b3e8-4a64-98cc-c75ad11f6a1d",
        "colab": {
          "base_uri": "https://localhost:8080/",
          "height": 68
        }
      },
      "source": [
        "import nltk\n",
        "nltk.download('stopwords')"
      ],
      "execution_count": 0,
      "outputs": [
        {
          "output_type": "stream",
          "text": [
            "[nltk_data] Downloading package stopwords to /root/nltk_data...\n",
            "[nltk_data]   Unzipping corpora/stopwords.zip.\n"
          ],
          "name": "stdout"
        },
        {
          "output_type": "execute_result",
          "data": {
            "text/plain": [
              "True"
            ]
          },
          "metadata": {
            "tags": []
          },
          "execution_count": 8
        }
      ]
    },
    {
      "cell_type": "code",
      "metadata": {
        "id": "IliVUlcF0O2V",
        "colab_type": "code",
        "outputId": "5abd70bb-b1cd-4264-91f8-98ba7c34c206",
        "colab": {
          "base_uri": "https://localhost:8080/",
          "height": 34
        }
      },
      "source": [
        "import numpy as np\n",
        "import pandas as pd \n",
        "import re\n",
        "from bs4 import BeautifulSoup\n",
        "from keras.preprocessing.text import Tokenizer \n",
        "from keras.preprocessing.sequence import pad_sequences\n",
        "from nltk.corpus import stopwords\n",
        "from tensorflow.keras.layers import Input, LSTM, Embedding, Dense, Concatenate, TimeDistributed, Bidirectional\n",
        "from tensorflow.keras.models import Model\n",
        "from tensorflow.keras.callbacks import EarlyStopping\n",
        "import warnings\n",
        "pd.set_option(\"display.max_colwidth\", 200)\n",
        "warnings.filterwarnings(\"ignore\")"
      ],
      "execution_count": 0,
      "outputs": [
        {
          "output_type": "stream",
          "text": [
            "Using TensorFlow backend.\n"
          ],
          "name": "stderr"
        }
      ]
    },
    {
      "cell_type": "code",
      "metadata": {
        "id": "_OnzIme70l9z",
        "colab_type": "code",
        "colab": {}
      },
      "source": [
        "data = pd.DataFrame()\n",
        "data['cleaned_text']=source_sent\n",
        "data['cleaned_summary']=target_sent"
      ],
      "execution_count": 0,
      "outputs": []
    },
    {
      "cell_type": "code",
      "metadata": {
        "id": "j0P_z5N80QIg",
        "colab_type": "code",
        "outputId": "ebc47dff-56b7-4345-f752-ee7eba3ef6cb",
        "colab": {
          "base_uri": "https://localhost:8080/",
          "height": 289
        }
      },
      "source": [
        "data.head()"
      ],
      "execution_count": 0,
      "outputs": [
        {
          "output_type": "execute_result",
          "data": {
            "text/html": [
              "<div>\n",
              "<style scoped>\n",
              "    .dataframe tbody tr th:only-of-type {\n",
              "        vertical-align: middle;\n",
              "    }\n",
              "\n",
              "    .dataframe tbody tr th {\n",
              "        vertical-align: top;\n",
              "    }\n",
              "\n",
              "    .dataframe thead th {\n",
              "        text-align: right;\n",
              "    }\n",
              "</style>\n",
              "<table border=\"1\" class=\"dataframe\">\n",
              "  <thead>\n",
              "    <tr style=\"text-align: right;\">\n",
              "      <th></th>\n",
              "      <th>cleaned_text</th>\n",
              "      <th>cleaned_summary</th>\n",
              "    </tr>\n",
              "  </thead>\n",
              "  <tbody>\n",
              "    <tr>\n",
              "      <th>0</th>\n",
              "      <td>temperature time 6-21 min 26 mean 43 max 53 windChill time 6-21 min 0 mean 22 max 46 windSpeed time 6-21 min 6 mean 8 max 10 mode-bucket-0-20-2 0-10 windDir time 6-21 mode SE gust time 6-21 min 0 ...</td>\n",
              "      <td>Mostly sunny , with a high near 53 . Southeast wind between 7 and 9 mph . \\n</td>\n",
              "    </tr>\n",
              "    <tr>\n",
              "      <th>1</th>\n",
              "      <td>temperature time 17-30 min 47 mean 50 max 58 windChill time 17-30 min 0 mean 30 max 49 windSpeed time 17-30 min 3 mean 5 max 9 mode-bucket-0-20-2 0-10 windDir time 17-30 mode E gust time 17-30 min...</td>\n",
              "      <td>A 50 percent chance of showers . Cloudy , with a low around 47 . East wind around 5 mph . \\n</td>\n",
              "    </tr>\n",
              "    <tr>\n",
              "      <th>2</th>\n",
              "      <td>temperature time 17-30 min 51 mean 55 max 62 windChill time 17-30 min 0 mean 0 max 0 windSpeed time 17-30 min 2 mean 3 max 6 mode-bucket-0-20-2 0-10 windDir time 17-30 mode SSE gust time 17-30 min...</td>\n",
              "      <td>Cloudy , with a low around 49 . Calm wind becoming south southeast around 5 mph . \\n</td>\n",
              "    </tr>\n",
              "    <tr>\n",
              "      <th>3</th>\n",
              "      <td>temperature time 17-30 min 26 mean 29 max 38 windChill time 17-30 min 26 mean 28 max 36 windSpeed time 17-30 min 0 mean 0 max 5 mode-bucket-0-20-2 0-10 windDir time 17-30 mode ESE gust time 17-30 ...</td>\n",
              "      <td>Partly cloudy , with a low around 23 . Calm wind . \\n</td>\n",
              "    </tr>\n",
              "    <tr>\n",
              "      <th>4</th>\n",
              "      <td>temperature time 17-30 min 55 mean 60 max 69 windChill time 17-30 min 0 mean 0 max 0 windSpeed time 17-30 min 8 mean 9 max 14 mode-bucket-0-20-2 0-10 windDir time 17-30 mode SSW gust time 17-30 mi...</td>\n",
              "      <td>Partly cloudy , with a low around 53 . South wind around 9 mph . \\n</td>\n",
              "    </tr>\n",
              "  </tbody>\n",
              "</table>\n",
              "</div>"
            ],
            "text/plain": [
              "                                                                                                                                                                                              cleaned_text                                                                               cleaned_summary\n",
              "0  temperature time 6-21 min 26 mean 43 max 53 windChill time 6-21 min 0 mean 22 max 46 windSpeed time 6-21 min 6 mean 8 max 10 mode-bucket-0-20-2 0-10 windDir time 6-21 mode SE gust time 6-21 min 0 ...                  Mostly sunny , with a high near 53 . Southeast wind between 7 and 9 mph . \\n\n",
              "1  temperature time 17-30 min 47 mean 50 max 58 windChill time 17-30 min 0 mean 30 max 49 windSpeed time 17-30 min 3 mean 5 max 9 mode-bucket-0-20-2 0-10 windDir time 17-30 mode E gust time 17-30 min...  A 50 percent chance of showers . Cloudy , with a low around 47 . East wind around 5 mph . \\n\n",
              "2  temperature time 17-30 min 51 mean 55 max 62 windChill time 17-30 min 0 mean 0 max 0 windSpeed time 17-30 min 2 mean 3 max 6 mode-bucket-0-20-2 0-10 windDir time 17-30 mode SSE gust time 17-30 min...          Cloudy , with a low around 49 . Calm wind becoming south southeast around 5 mph . \\n\n",
              "3  temperature time 17-30 min 26 mean 29 max 38 windChill time 17-30 min 26 mean 28 max 36 windSpeed time 17-30 min 0 mean 0 max 5 mode-bucket-0-20-2 0-10 windDir time 17-30 mode ESE gust time 17-30 ...                                         Partly cloudy , with a low around 23 . Calm wind . \\n\n",
              "4  temperature time 17-30 min 55 mean 60 max 69 windChill time 17-30 min 0 mean 0 max 0 windSpeed time 17-30 min 8 mean 9 max 14 mode-bucket-0-20-2 0-10 windDir time 17-30 mode SSW gust time 17-30 mi...                           Partly cloudy , with a low around 53 . South wind around 9 mph . \\n"
            ]
          },
          "metadata": {
            "tags": []
          },
          "execution_count": 11
        }
      ]
    },
    {
      "cell_type": "code",
      "metadata": {
        "id": "2bsQ9iHS0YIQ",
        "colab_type": "code",
        "colab": {}
      },
      "source": [
        "data.replace('', np.nan, inplace=True)\n",
        "data.dropna(axis=0,inplace=True)"
      ],
      "execution_count": 0,
      "outputs": []
    },
    {
      "cell_type": "code",
      "metadata": {
        "id": "jNuM7ve_0iLi",
        "colab_type": "code",
        "outputId": "b4218813-d928-4f8c-ca1e-a404a7d189d9",
        "colab": {
          "base_uri": "https://localhost:8080/",
          "height": 281
        }
      },
      "source": [
        "import matplotlib.pyplot as plt\n",
        "\n",
        "text_word_count = []\n",
        "summary_word_count = []\n",
        "\n",
        "# populate the lists with sentence lengths\n",
        "for i in data['cleaned_text']:\n",
        "      text_word_count.append(len(i.split()))\n",
        "\n",
        "for i in data['cleaned_summary']:\n",
        "      summary_word_count.append(len(i.split()))\n",
        "\n",
        "length_df = pd.DataFrame({'text':text_word_count, 'summary':summary_word_count})\n",
        "\n",
        "length_df.hist(bins = 30)\n",
        "plt.show()"
      ],
      "execution_count": 0,
      "outputs": [
        {
          "output_type": "display_data",
          "data": {
            "image/png": "[encoded data removed]",
            "text/plain": [
              "<Figure size 432x288 with 2 Axes>"
            ]
          },
          "metadata": {
            "tags": [],
            "needs_background": "light"
          }
        }
      ]
    },
    {
      "cell_type": "code",
      "metadata": {
        "id": "Hh2VGlAi0qlv",
        "colab_type": "code",
        "outputId": "68a4f2e5-c43d-49bd-c9c5-6209c005bb91",
        "colab": {
          "base_uri": "https://localhost:8080/",
          "height": 34
        }
      },
      "source": [
        "cnt=0\n",
        "for i in data['cleaned_summary']:\n",
        "    if(len(i.split())<=60):\n",
        "        cnt=cnt+1\n",
        "print(cnt/len(data['cleaned_summary']))"
      ],
      "execution_count": 0,
      "outputs": [
        {
          "output_type": "stream",
          "text": [
            "0.96256\n"
          ],
          "name": "stdout"
        }
      ]
    },
    {
      "cell_type": "code",
      "metadata": {
        "id": "4i4apTs_2Ywu",
        "colab_type": "code",
        "outputId": "0ea0013d-4266-4522-d869-51d257ed821d",
        "colab": {
          "base_uri": "https://localhost:8080/",
          "height": 34
        }
      },
      "source": [
        "cnt=0\n",
        "for i in data['cleaned_text']:\n",
        "    if(len(i.split())<=120):\n",
        "        cnt=cnt+1\n",
        "print(cnt/len(data['cleaned_text']))"
      ],
      "execution_count": 0,
      "outputs": [
        {
          "output_type": "stream",
          "text": [
            "0.94176\n"
          ],
          "name": "stdout"
        }
      ]
    },
    {
      "cell_type": "code",
      "metadata": {
        "id": "3UHiN1No1Nq_",
        "colab_type": "code",
        "colab": {}
      },
      "source": [
        "max_text_len=120\n",
        "max_summary_len=60"
      ],
      "execution_count": 0,
      "outputs": []
    },
    {
      "cell_type": "code",
      "metadata": {
        "id": "8ppJe-qQ1PxG",
        "colab_type": "code",
        "colab": {}
      },
      "source": [
        "cleaned_text =np.array(data['cleaned_text'])\n",
        "cleaned_summary=np.array(data['cleaned_summary'])\n",
        "\n",
        "short_text=[]\n",
        "short_summary=[]\n",
        "\n",
        "for i in range(len(cleaned_text)):\n",
        "    if(len(cleaned_summary[i].split())<=max_summary_len and len(cleaned_text[i].split())<=max_text_len):\n",
        "        short_text.append(cleaned_text[i])\n",
        "        short_summary.append(cleaned_summary[i])\n",
        "        \n",
        "df=pd.DataFrame({'text':short_text,'summary':short_summary})"
      ],
      "execution_count": 0,
      "outputs": []
    },
    {
      "cell_type": "code",
      "metadata": {
        "id": "CMgKY08_2jd7",
        "colab_type": "code",
        "colab": {}
      },
      "source": [
        "df['summary'] = df['summary'].apply(lambda x : 'sostok '+ x + ' eostok')"
      ],
      "execution_count": 0,
      "outputs": []
    },
    {
      "cell_type": "code",
      "metadata": {
        "id": "wi2TLL0Z2oBq",
        "colab_type": "code",
        "colab": {}
      },
      "source": [
        "df.to_csv('cleaned_weather_data.csv')"
      ],
      "execution_count": 0,
      "outputs": []
    },
    {
      "cell_type": "code",
      "metadata": {
        "id": "_rw9-f6gTOu4",
        "colab_type": "code",
        "colab": {}
      },
      "source": [
        "MAX_SEQUENCE_LENGTH = max_text_len\n",
        "MAX_NUM_WORDS = 140\n",
        "EMBEDDING_DIM = 100\n",
        "VALIDATION_SPLIT = 0.1"
      ],
      "execution_count": 0,
      "outputs": []
    },
    {
      "cell_type": "code",
      "metadata": {
        "id": "zgap6TER2tag",
        "colab_type": "code",
        "colab": {}
      },
      "source": [
        "from sklearn.model_selection import train_test_split\n",
        "x_tr,x_val,y_tr,y_val=train_test_split(np.array(df['text']),np.array(df['summary']),test_size=0.1,random_state=0,shuffle=True) "
      ],
      "execution_count": 0,
      "outputs": []
    },
    {
      "cell_type": "code",
      "metadata": {
        "id": "_BozpjTo228U",
        "colab_type": "code",
        "colab": {}
      },
      "source": [
        "from keras.preprocessing.text import Tokenizer \n",
        "from keras.preprocessing.sequence import pad_sequences\n",
        "\n",
        "#prepare a tokenizer for reviews on training data\n",
        "x_tokenizer = Tokenizer() \n",
        "x_tokenizer.fit_on_texts(list(x_tr))"
      ],
      "execution_count": 0,
      "outputs": []
    },
    {
      "cell_type": "code",
      "metadata": {
        "id": "IK48_FPD4lo0",
        "colab_type": "code",
        "outputId": "c587dcc8-fe5f-42d9-83a5-faa95d9e247f",
        "colab": {
          "base_uri": "https://localhost:8080/",
          "height": 51
        }
      },
      "source": [
        "thresh=4\n",
        "\n",
        "cnt=0\n",
        "tot_cnt=0\n",
        "freq=0\n",
        "tot_freq=0\n",
        "\n",
        "for key,value in x_tokenizer.word_counts.items():\n",
        "    tot_cnt=tot_cnt+1\n",
        "    tot_freq=tot_freq+value\n",
        "    if(value<thresh):\n",
        "        cnt=cnt+1\n",
        "        freq=freq+value\n",
        "    \n",
        "print(\"% of rare words in vocabulary:\",(cnt/tot_cnt)*100)\n",
        "print(\"Total Coverage of rare words:\",(freq/tot_freq)*100)"
      ],
      "execution_count": 0,
      "outputs": [
        {
          "output_type": "stream",
          "text": [
            "% of rare words in vocabulary: 0.0\n",
            "Total Coverage of rare words: 0.0\n"
          ],
          "name": "stdout"
        }
      ]
    },
    {
      "cell_type": "code",
      "metadata": {
        "id": "EZTfZJTO26on",
        "colab_type": "code",
        "colab": {}
      },
      "source": [
        "#prepare a tokenizer for reviews on training data\n",
        "x_tokenizer = Tokenizer(num_words=tot_cnt-cnt) \n",
        "x_tokenizer.fit_on_texts(list(x_tr))\n",
        "\n",
        "#convert text sequences into integer sequences\n",
        "x_tr_seq    =   x_tokenizer.texts_to_sequences(x_tr) \n",
        "x_val_seq   =   x_tokenizer.texts_to_sequences(x_val)\n",
        "\n"
      ],
      "execution_count": 0,
      "outputs": []
    },
    {
      "cell_type": "code",
      "metadata": {
        "id": "6x3oNAgJ2_pZ",
        "colab_type": "code",
        "colab": {}
      },
      "source": [
        "#padding zero upto maximum length\n",
        "x_tr    =   pad_sequences(x_tr_seq,  maxlen=max_text_len, padding='post')\n",
        "x_val   =   pad_sequences(x_val_seq, maxlen=max_text_len, padding='post')\n",
        "\n",
        "#size of vocabulary ( +1 for padding token)\n",
        "x_voc   =  x_tokenizer.num_words + 1"
      ],
      "execution_count": 0,
      "outputs": []
    },
    {
      "cell_type": "code",
      "metadata": {
        "id": "kjSQRw9Z3PBX",
        "colab_type": "code",
        "outputId": "74bccdbd-7f10-4005-fd38-344f3c7dff05",
        "colab": {
          "base_uri": "https://localhost:8080/",
          "height": 34
        }
      },
      "source": [
        "x_voc"
      ],
      "execution_count": 0,
      "outputs": [
        {
          "output_type": "execute_result",
          "data": {
            "text/plain": [
              "140"
            ]
          },
          "metadata": {
            "tags": []
          },
          "execution_count": 26
        }
      ]
    },
    {
      "cell_type": "code",
      "metadata": {
        "id": "VOLV4HYn3frR",
        "colab_type": "code",
        "outputId": "5523accf-271d-45a9-bdab-3421afffe96c",
        "colab": {
          "base_uri": "https://localhost:8080/",
          "height": 187
        }
      },
      "source": [
        "x_val[10]"
      ],
      "execution_count": 0,
      "outputs": [
        {
          "output_type": "execute_result",
          "data": {
            "text/plain": [
              "array([ 25,   1,   9,   8,  11,  72,  12,  87,  13, 103,  26,   1,   9,\n",
              "         8,  11,   2,  12,  23,  13,  16,  27,   1,   9,   8,  11,  40,\n",
              "        12,  33,  13,  23,   3,   6,   2,  19,  24,   2,  23,  28,   1,\n",
              "         9,   8,   3, 100,  29,   1,   9,   8,  11,   2,  12,   2,  13,\n",
              "         2,  14,   1,   9,   8,   3,   6,   2,   4,  10,   2,  17,  14,\n",
              "         1,   9,   5,   3,   6,   2,   4,  10,   2,  17,  14,   1,   9,\n",
              "        22,   3,   6,   2,   4,  10,   2,  17,  14,   1,   5,   8,   3,\n",
              "         6,   2,   4,  10,   2,  17,  14,   1,  22,   8,   3,   6,   2,\n",
              "         4,  10,   2,  17,  30,   1,   9,   8,  11,   2,  12,   2,  13,\n",
              "         2,   0,   0], dtype=int32)"
            ]
          },
          "metadata": {
            "tags": []
          },
          "execution_count": 27
        }
      ]
    },
    {
      "cell_type": "code",
      "metadata": {
        "id": "9iZzN_RY3hOW",
        "colab_type": "code",
        "colab": {}
      },
      "source": [
        "#prepare a tokenizer for reviews on training data\n",
        "y_tokenizer = Tokenizer()   \n",
        "y_tokenizer.fit_on_texts(list(y_tr))"
      ],
      "execution_count": 0,
      "outputs": []
    },
    {
      "cell_type": "code",
      "metadata": {
        "id": "-zeUnYhs45sI",
        "colab_type": "code",
        "outputId": "357920e8-aabd-41d5-dc27-0c26aa2039ef",
        "colab": {
          "base_uri": "https://localhost:8080/",
          "height": 51
        }
      },
      "source": [
        "thresh=3\n",
        "\n",
        "cnt=0\n",
        "tot_cnt=0\n",
        "freq=0\n",
        "tot_freq=0\n",
        "\n",
        "for key,value in y_tokenizer.word_counts.items():\n",
        "    tot_cnt=tot_cnt+1\n",
        "    tot_freq=tot_freq+value\n",
        "    if(value<thresh):\n",
        "        cnt=cnt+1\n",
        "        freq=freq+value\n",
        "    \n",
        "print(\"% of rare words in vocabulary:\",(cnt/tot_cnt)*100)\n",
        "print(\"Total Coverage of rare words:\",(freq/tot_freq)*100)"
      ],
      "execution_count": 0,
      "outputs": [
        {
          "output_type": "stream",
          "text": [
            "% of rare words in vocabulary: 9.090909090909092\n",
            "Total Coverage of rare words: 0.0070722033736321495\n"
          ],
          "name": "stdout"
        }
      ]
    },
    {
      "cell_type": "code",
      "metadata": {
        "id": "FItKe8tS3lhU",
        "colab_type": "code",
        "colab": {}
      },
      "source": [
        "#prepare a tokenizer for reviews on training data\n",
        "y_tokenizer = Tokenizer(num_words=tot_cnt-cnt) \n",
        "y_tokenizer.fit_on_texts(list(y_tr))\n",
        "\n",
        "#convert text sequences into integer sequences\n",
        "y_tr_seq    =   y_tokenizer.texts_to_sequences(y_tr) \n",
        "y_val_seq   =   y_tokenizer.texts_to_sequences(y_val) \n",
        "\n",
        "#padding zero upto maximum length\n",
        "y_tr    =   pad_sequences(y_tr_seq, maxlen=max_summary_len, padding='post')\n",
        "y_val   =   pad_sequences(y_val_seq, maxlen=max_summary_len, padding='post')\n",
        "\n",
        "#size of vocabulary\n",
        "y_voc  =   y_tokenizer.num_words +1"
      ],
      "execution_count": 0,
      "outputs": []
    },
    {
      "cell_type": "code",
      "metadata": {
        "id": "jH1tsX3F3ogc",
        "colab_type": "code",
        "outputId": "3aa14e92-469b-43e3-c4ee-15909f21ae60",
        "colab": {
          "base_uri": "https://localhost:8080/",
          "height": 34
        }
      },
      "source": [
        "y_tokenizer.word_counts['sostok'],len(y_tr)   "
      ],
      "execution_count": 0,
      "outputs": [
        {
          "output_type": "execute_result",
          "data": {
            "text/plain": [
              "(20584, 20584)"
            ]
          },
          "metadata": {
            "tags": []
          },
          "execution_count": 31
        }
      ]
    },
    {
      "cell_type": "code",
      "metadata": {
        "id": "LUly4xcs3_qz",
        "colab_type": "code",
        "colab": {}
      },
      "source": [
        "# !wget http://nlp.stanford.edu/data/glove.6B.zip"
      ],
      "execution_count": 0,
      "outputs": []
    },
    {
      "cell_type": "code",
      "metadata": {
        "id": "biUF8sRdlDoY",
        "colab_type": "code",
        "outputId": "802cec0a-4df3-4a93-805a-7491773d38c3",
        "colab": {
          "base_uri": "https://localhost:8080/",
          "height": 204
        }
      },
      "source": [
        "# !wget https://media.githubusercontent.com/media/allenai/spv2/master/model/glove.6B.100d.txt.gz\n",
        "!wget https://www.floydhub.com/api/v1/resources/Av2ThePYtAHXMAuSXEBV8X/glove.6B.100d.txt?content=true&rename=glove6b100dtxt"
      ],
      "execution_count": 0,
      "outputs": [
        {
          "output_type": "stream",
          "text": [
            "--2020-06-11 05:07:06--  https://www.floydhub.com/api/v1/resources/Av2ThePYtAHXMAuSXEBV8X/glove.6B.100d.txt?content=true\n",
            "Resolving www.floydhub.com (www.floydhub.com)... 104.26.1.30, 172.67.72.144, 104.26.0.30, ...\n",
            "Connecting to www.floydhub.com (www.floydhub.com)|104.26.1.30|:443... connected.\n",
            "HTTP request sent, awaiting response... 200 OK\n",
            "Length: unspecified [application/octet-stream]\n",
            "Saving to: ‘glove.6B.100d.txt?content=true’\n",
            "\n",
            "glove.6B.100d.txt?c     [            <=>     ] 331.04M  35.3MB/s    in 11s     \n",
            "\n",
            "2020-06-11 05:07:17 (30.9 MB/s) - ‘glove.6B.100d.txt?content=true’ saved [347116733]\n",
            "\n"
          ],
          "name": "stdout"
        }
      ]
    },
    {
      "cell_type": "code",
      "metadata": {
        "id": "MrPUnBJiRzAw",
        "colab_type": "code",
        "colab": {}
      },
      "source": [
        "# !unzip glove.6B.zip"
      ],
      "execution_count": 0,
      "outputs": []
    },
    {
      "cell_type": "code",
      "metadata": {
        "id": "okBG5clTTBlj",
        "colab_type": "code",
        "colab": {}
      },
      "source": [
        "EMBEDDING_DIM = 100"
      ],
      "execution_count": 0,
      "outputs": []
    },
    {
      "cell_type": "code",
      "metadata": {
        "id": "HoYz7YbuSQz-",
        "colab_type": "code",
        "outputId": "d89728c3-faf2-4dd3-853f-c7e894f2baa6",
        "colab": {
          "base_uri": "https://localhost:8080/",
          "height": 34
        }
      },
      "source": [
        "embeddings_index = {}\n",
        "f = open( 'glove.6B.100d.txt?content=true')\n",
        "for line in f:\n",
        "    values = line.split()\n",
        "    word = values[0]\n",
        "    coefs = np.asarray(values[1:], dtype='float32')\n",
        "    embeddings_index[word] = coefs\n",
        "f.close()\n",
        "\n",
        "print('Found %s word vectors.' % len(embeddings_index))"
      ],
      "execution_count": 0,
      "outputs": [
        {
          "output_type": "stream",
          "text": [
            "Found 400000 word vectors.\n"
          ],
          "name": "stdout"
        }
      ]
    },
    {
      "cell_type": "code",
      "metadata": {
        "id": "l0GFEmmSUZso",
        "colab_type": "code",
        "colab": {}
      },
      "source": [
        "reverse_target_word_index=y_tokenizer.index_word\n",
        "reverse_source_word_index=x_tokenizer.index_word\n",
        "target_word_index=y_tokenizer.word_index\n",
        "word_index=x_tokenizer.word_index"
      ],
      "execution_count": 0,
      "outputs": []
    },
    {
      "cell_type": "code",
      "metadata": {
        "id": "3GcDgXU2ShON",
        "colab_type": "code",
        "colab": {}
      },
      "source": [
        "embedding_matrix = np.zeros((len(word_index) + 1, EMBEDDING_DIM))\n",
        "for word, i in word_index.items():\n",
        "    embedding_vector = embeddings_index.get(word)\n",
        "    if embedding_vector is not None:\n",
        "        # words not found in embedding index will be all-zeros.\n",
        "        embedding_matrix[i] = embedding_vector"
      ],
      "execution_count": 0,
      "outputs": []
    },
    {
      "cell_type": "code",
      "metadata": {
        "id": "L7xhJN9OYrlB",
        "colab_type": "code",
        "colab": {}
      },
      "source": [
        "embedding_matrix_1 = np.zeros((len(target_word_index) + 1, EMBEDDING_DIM))\n",
        "for word, i in target_word_index.items():\n",
        "    embedding_vector = embeddings_index.get(word)\n",
        "    if embedding_vector is not None:\n",
        "        # words not found in embedding index will be all-zeros.\n",
        "        embedding_matrix_1[i] = embedding_vector"
      ],
      "execution_count": 0,
      "outputs": []
    },
    {
      "cell_type": "code",
      "metadata": {
        "id": "FAb5miza5HWI",
        "colab_type": "code",
        "outputId": "2071fad8-41b1-4511-d2b3-9f54eeee37de",
        "colab": {
          "base_uri": "https://localhost:8080/",
          "height": 204
        }
      },
      "source": [
        "!wget https://raw.githubusercontent.com/thushv89/attention_keras/master/layers/attention.py\n",
        "from attention import AttentionLayer"
      ],
      "execution_count": 0,
      "outputs": [
        {
          "output_type": "stream",
          "text": [
            "--2020-06-11 05:07:30--  https://raw.githubusercontent.com/thushv89/attention_keras/master/layers/attention.py\n",
            "Resolving raw.githubusercontent.com (raw.githubusercontent.com)... 151.101.0.133, 151.101.64.133, 151.101.128.133, ...\n",
            "Connecting to raw.githubusercontent.com (raw.githubusercontent.com)|151.101.0.133|:443... connected.\n",
            "HTTP request sent, awaiting response... 200 OK\n",
            "Length: 5230 (5.1K) [text/plain]\n",
            "Saving to: ‘attention.py’\n",
            "\n",
            "\rattention.py          0%[                    ]       0  --.-KB/s               \rattention.py        100%[===================>]   5.11K  --.-KB/s    in 0s      \n",
            "\n",
            "2020-06-11 05:07:30 (67.4 MB/s) - ‘attention.py’ saved [5230/5230]\n",
            "\n"
          ],
          "name": "stdout"
        }
      ]
    },
    {
      "cell_type": "code",
      "metadata": {
        "id": "imulutl-XDQo",
        "colab_type": "code",
        "colab": {}
      },
      "source": [
        "# from math import log\n",
        "# from numpy import array\n",
        "# from numpy import argmax\n",
        " \n",
        "# # beam search\n",
        "# def beam_search_decoder(data, k):\n",
        "# \tsequences = [[list(), 0.0]]\n",
        "# \t# walk over each step in sequence\n",
        "# \tfor row in data:\n",
        "# \t\tall_candidates = list()\n",
        "# \t\t# expand each current candidate\n",
        "# \t\tfor i in range(len(sequences)):\n",
        "# \t\t\tseq, score = sequences[i]\n",
        "# \t\t\tfor j in range(len(row)):\n",
        "# \t\t\t\tcandidate = [seq + [j], score - log(row[j])]\n",
        "# \t\t\t\tall_candidates.append(candidate)\n",
        "# \t\t# order all candidates by score\n",
        "# \t\tordered = sorted(all_candidates, key=lambda tup:tup[1])\n",
        "# \t\t# select k best\n",
        "# \t\tsequences = ordered[:k]\n",
        "# \treturn sequences\n",
        " \n",
        "# # define a sequence of 10 words over a vocab of 5 words\n",
        "# data = [[0.1, 0.2, 0.3, 0.4, 0.5],\n",
        "# \t\t[0.5, 0.4, 0.3, 0.2, 0.1],\n",
        "# \t\t[0.1, 0.2, 0.3, 0.4, 0.5],\n",
        "# \t\t[0.5, 0.4, 0.3, 0.2, 0.1],\n",
        "# \t\t[0.1, 0.2, 0.3, 0.4, 0.5],\n",
        "# \t\t[0.5, 0.4, 0.3, 0.2, 0.1],\n",
        "# \t\t[0.1, 0.2, 0.3, 0.4, 0.5],\n",
        "# \t\t[0.5, 0.4, 0.3, 0.2, 0.1],\n",
        "# \t\t[0.1, 0.2, 0.3, 0.4, 0.5],\n",
        "# \t\t[0.5, 0.4, 0.3, 0.2, 0.1]]\n",
        "# data = array(data)\n",
        "# # decode sequence\n",
        "# result = beam_search_decoder(data, 3)\n",
        "# # print result\n",
        "# for seq in result:\n",
        "# \tprint(seq)"
      ],
      "execution_count": 0,
      "outputs": []
    },
    {
      "cell_type": "code",
      "metadata": {
        "id": "Tkb0C6U85Hdl",
        "colab_type": "code",
        "colab": {}
      },
      "source": [
        "# Bi-directional model\n",
        "# from keras import backend as K \n",
        "# K.clear_session()\n",
        "\n",
        "# latent_dim = 512\n",
        "# embedding_dim=EMBEDDING_DIM\n",
        "\n",
        "# # Encoder\n",
        "# encoder_inputs = Input(shape=(max_text_len,))\n",
        "\n",
        "# #embedding layer\n",
        "# # enc_emb =  Embedding(x_voc, embedding_dim,trainable=True)(encoder_inputs)\n",
        "# enc_emb = Embedding(len(word_index) + 1,\n",
        "#                             EMBEDDING_DIM,\n",
        "#                             weights=[embedding_matrix],\n",
        "#                             input_length=MAX_SEQUENCE_LENGTH,\n",
        "#                             trainable=False)(encoder_inputs)\n",
        "\n",
        "# # embedding_layer = Embedding(num_words,\n",
        "# #                             EMBEDDING_DIM,\n",
        "# #                             embeddings_initializer=Constant(embedding_matrix),\n",
        "# #                             input_length=MAX_SEQUENCE_LENGTH,\n",
        "# #                             trainable=False)\n",
        "\n",
        "# # # Define Keras embedding layer with the correct output/input sizes, make it trainable. Use Embedding(...). Make sure to set trainable=False. \n",
        "# #     embedding_layer = Embedding(vocab_len, emb_dim, trainable = False)\n",
        "# #     ### END CODE HERE ###\n",
        "\n",
        "# #     # Build the embedding layer, it is required before setting the weights of the embedding layer. Do not modify the \"None\".\n",
        "# #     embedding_layer.build((None,))\n",
        "    \n",
        "# #     # Set the weights of the embedding layer to the embedding matrix. Your layer is now pretrained.\n",
        "# #     embedding_layer.set_weights([emb_matrix])\n",
        "\n",
        "# #encoder lstm 1\n",
        "\n",
        "# encoder_lstm = LSTM(latent_dim,return_sequences=True,return_state=True,dropout=0.3,recurrent_dropout=0.2)\n",
        "\n",
        "# encoder_lstm1 = Bidirectional(encoder_lstm)\n",
        "\n",
        "# # encoder_output1, state_h1, state_c1 = encoder_lstm1(enc_emb)\n",
        "\n",
        "# # #encoder lstm 2\n",
        "# # encoder_lstm2 = LSTM(latent_dim,return_sequences=True,return_state=True,dropout=0.3,recurrent_dropout=0.2)\n",
        "# # encoder_output2, state_h2, state_c2 = encoder_lstm2(encoder_output1)\n",
        "\n",
        "# # # #encoder lstm 3\n",
        "# # encoder_lstm3=LSTM(latent_dim, return_state=True, return_sequences=True,dropout=0.3,recurrent_dropout=0.2)\n",
        "# # encoder_outputs, state_h, state_c = encoder_lstm1(enc_emb)\n",
        "# encoder_outputs, forward_h, forward_c, backward_h, backward_c = encoder_lstm1(enc_emb)\n",
        "\n",
        "# # lstm, forward_h, forward_c, backward_h, backward_c = Bidirectional(LSTM(128, return_sequences=True, return_state=True))(input)\n",
        "# state_h = Concatenate()([forward_h, backward_h])\n",
        "# state_c = Concatenate()([forward_c, backward_c])\n",
        "# # encoder_states = [state_h, state_c]\n",
        "\n",
        "# # forward_layer = LSTM(latent_dim,return_sequences=True,return_state=True,dropout=0.4,recurrent_dropout=0.4)\n",
        "# # backward_layer = LSTM(latent_dim,return_sequences=True,return_state=True,dropout=0.4,recurrent_dropout=0.4, go_backwards=True)\n",
        "# # encoder_lstm = Bidirectional(forward_layer, backward_layer=backward_layer)\n",
        "# # encoder_outputs, state_h, state_c= encoder_lstm(enc_emb)\n",
        "\n",
        "\n",
        "# # Set up the decoder, using `encoder_states` as initial state.\n",
        "# decoder_inputs = Input(shape=(None,))\n",
        "\n",
        "# #embedding layer\n",
        "# # dec_emb_layer = Embedding(y_voc, embedding_dim,trainable=True)\n",
        "\n",
        "# dec_emb_layer = Embedding(len(target_word_index) + 1,\n",
        "#                             EMBEDDING_DIM,\n",
        "#                             weights=[embedding_matrix_1],\n",
        "#                             input_length=max_summary_len,\n",
        "#                             trainable=False)\n",
        "\n",
        "# dec_emb = dec_emb_layer(decoder_inputs)\n",
        "\n",
        "\n",
        "# decoder_lstm = LSTM(latent_dim* 2, return_sequences=True, return_state=True,dropout=0.3,recurrent_dropout=0.2)\n",
        "# decoder_outputs,decoder_fwd_state, decoder_back_state = decoder_lstm(dec_emb,initial_state=[state_h, state_c])\n",
        "\n",
        "# # Attention layer\n",
        "# attn_layer = AttentionLayer(name='attention_layer')\n",
        "# attn_out, attn_states = attn_layer([encoder_outputs, decoder_outputs])\n",
        "\n",
        "# # Concat attention input and decoder LSTM output\n",
        "# decoder_concat_input = Concatenate(axis=-1, name='concat_layer')([decoder_outputs, attn_out])\n",
        "\n",
        "# #dense layer\n",
        "# decoder_dense =  TimeDistributed(Dense(y_voc, activation='softmax'))\n",
        "# decoder_outputs = decoder_dense(decoder_concat_input)\n",
        "\n",
        "# # Define the model \n",
        "# model = Model([encoder_inputs, decoder_inputs], decoder_outputs)\n",
        "\n",
        "# model.summary() "
      ],
      "execution_count": 0,
      "outputs": []
    },
    {
      "cell_type": "code",
      "metadata": {
        "id": "lfizOahJc7qR",
        "colab_type": "code",
        "outputId": "9571bb71-9989-44c3-83a5-4125d4d64318",
        "colab": {
          "base_uri": "https://localhost:8080/",
          "height": 581
        }
      },
      "source": [
        "from keras import backend as K \n",
        "K.clear_session()\n",
        "\n",
        "latent_dim = 128\n",
        "embedding_dim=EMBEDDING_DIM\n",
        "\n",
        "# Encoder\n",
        "encoder_inputs = Input(shape=(max_text_len,))\n",
        "\n",
        "#embedding layer\n",
        "enc_emb = Embedding(len(word_index) + 1,\n",
        "                            EMBEDDING_DIM,\n",
        "                            weights=[embedding_matrix],\n",
        "                            input_length=MAX_SEQUENCE_LENGTH,\n",
        "                            trainable=False)(encoder_inputs)\n",
        "\n",
        "#encoder lstm 1\n",
        "\n",
        "encoder_lstm1 = LSTM(latent_dim,return_sequences=True,return_state=True,dropout=0.3,recurrent_dropout=0.2)\n",
        "# encoder_output1, state_h1, state_c1 = encoder_lstm1(enc_emb)\n",
        "\n",
        "# #encoder lstm 2\n",
        "# encoder_lstm2 = LSTM(latent_dim,return_sequences=True,return_state=True,dropout=0.3,recurrent_dropout=0.2)\n",
        "# encoder_output2, state_h2, state_c2 = encoder_lstm2(encoder_output1)\n",
        "\n",
        "# # #encoder lstm 3\n",
        "# encoder_lstm3=LSTM(latent_dim, return_state=True, return_sequences=True,dropout=0.3,recurrent_dropout=0.2)\n",
        "encoder_outputs, state_h, state_c = encoder_lstm1(enc_emb)\n",
        "\n",
        "# forward_layer = LSTM(latent_dim,return_sequences=True,return_state=True,dropout=0.4,recurrent_dropout=0.4)\n",
        "# backward_layer = LSTM(latent_dim,return_sequences=True,return_state=True,dropout=0.4,recurrent_dropout=0.4, go_backwards=True)\n",
        "# encoder_lstm = Bidirectional(forward_layer, backward_layer=backward_layer)\n",
        "# encoder_outputs, state_h, state_c= encoder_lstm(enc_emb)\n",
        "\n",
        "\n",
        "# Set up the decoder, using `encoder_states` as initial state.\n",
        "decoder_inputs = Input(shape=(None,))\n",
        "\n",
        "#embedding layer\n",
        "# dec_emb_layer = Embedding(y_voc, embedding_dim,trainable=True)\n",
        "\n",
        "dec_emb_layer = Embedding(len(target_word_index) + 1,\n",
        "                            EMBEDDING_DIM,\n",
        "                            weights=[embedding_matrix_1],\n",
        "                            input_length=max_summary_len,\n",
        "                            trainable=False)\n",
        "\n",
        "dec_emb = dec_emb_layer(decoder_inputs)\n",
        "\n",
        "\n",
        "decoder_lstm = LSTM(latent_dim, return_sequences=True, return_state=True,dropout=0.3,recurrent_dropout=0.2)\n",
        "decoder_outputs,decoder_fwd_state, decoder_back_state = decoder_lstm(dec_emb,initial_state=[state_h, state_c])\n",
        "\n",
        "# Attention layer\n",
        "attn_layer = AttentionLayer(name='attention_layer')\n",
        "attn_out, attn_states = attn_layer([encoder_outputs, decoder_outputs])\n",
        "\n",
        "# Concat attention input and decoder LSTM output\n",
        "decoder_concat_input = Concatenate(axis=-1, name='concat_layer')([decoder_outputs, attn_out])\n",
        "\n",
        "#dense layer\n",
        "decoder_dense =  TimeDistributed(Dense(y_voc, activation='softmax'))\n",
        "decoder_outputs = decoder_dense(decoder_concat_input)\n",
        "\n",
        "# Define the model \n",
        "model = Model([encoder_inputs, decoder_inputs], decoder_outputs)\n",
        "\n",
        "model.summary() "
      ],
      "execution_count": 0,
      "outputs": [
        {
          "output_type": "stream",
          "text": [
            "WARNING:tensorflow:Layer lstm will not use cuDNN kernel since it doesn't meet the cuDNN kernel criteria. It will use generic GPU kernel as fallback when running on GPU\n",
            "WARNING:tensorflow:Layer lstm_1 will not use cuDNN kernel since it doesn't meet the cuDNN kernel criteria. It will use generic GPU kernel as fallback when running on GPU\n",
            "Model: \"model\"\n",
            "__________________________________________________________________________________________________\n",
            "Layer (type)                    Output Shape         Param #     Connected to                     \n",
            "==================================================================================================\n",
            "input_1 (InputLayer)            [(None, 120)]        0                                            \n",
            "__________________________________________________________________________________________________\n",
            "input_2 (InputLayer)            [(None, None)]       0                                            \n",
            "__________________________________________________________________________________________________\n",
            "embedding (Embedding)           (None, 120, 100)     14000       input_1[0][0]                    \n",
            "__________________________________________________________________________________________________\n",
            "embedding_1 (Embedding)         (None, None, 100)    30900       input_2[0][0]                    \n",
            "__________________________________________________________________________________________________\n",
            "lstm (LSTM)                     [(None, 120, 128), ( 117248      embedding[0][0]                  \n",
            "__________________________________________________________________________________________________\n",
            "lstm_1 (LSTM)                   [(None, None, 128),  117248      embedding_1[0][0]                \n",
            "                                                                 lstm[0][1]                       \n",
            "                                                                 lstm[0][2]                       \n",
            "__________________________________________________________________________________________________\n",
            "attention_layer (AttentionLayer ((None, None, 128),  32896       lstm[0][0]                       \n",
            "                                                                 lstm_1[0][0]                     \n",
            "__________________________________________________________________________________________________\n",
            "concat_layer (Concatenate)      (None, None, 256)    0           lstm_1[0][0]                     \n",
            "                                                                 attention_layer[0][0]            \n",
            "__________________________________________________________________________________________________\n",
            "time_distributed (TimeDistribut (None, None, 281)    72217       concat_layer[0][0]               \n",
            "==================================================================================================\n",
            "Total params: 384,509\n",
            "Trainable params: 339,609\n",
            "Non-trainable params: 44,900\n",
            "__________________________________________________________________________________________________\n"
          ],
          "name": "stdout"
        }
      ]
    },
    {
      "cell_type": "code",
      "metadata": {
        "id": "QiCiMRV2vEuH",
        "colab_type": "code",
        "colab": {}
      },
      "source": [
        "# from tensorflow import keras\n",
        "# opt = keras.optimizers.Adam(learning_rate=0.01, beta_1=0.9, beta_2=0.999, decay=0.01)\n"
      ],
      "execution_count": 0,
      "outputs": []
    },
    {
      "cell_type": "code",
      "metadata": {
        "id": "ky67YJi55HaB",
        "colab_type": "code",
        "colab": {}
      },
      "source": [
        "model.compile(optimizer='adam', loss='sparse_categorical_crossentropy', metrics=['accuracy'])"
      ],
      "execution_count": 0,
      "outputs": []
    },
    {
      "cell_type": "code",
      "metadata": {
        "id": "biq7Lbhk5led",
        "colab_type": "code",
        "colab": {}
      },
      "source": [
        "es = EarlyStopping(monitor='val_loss', mode='min', verbose=1,patience=2)\n"
      ],
      "execution_count": 0,
      "outputs": []
    },
    {
      "cell_type": "code",
      "metadata": {
        "id": "YorSwH0E5mqH",
        "colab_type": "code",
        "outputId": "61985f72-4b49-4078-a472-a930179a6c72",
        "colab": {
          "base_uri": "https://localhost:8080/",
          "height": 119
        }
      },
      "source": [
        "history=model.fit([x_tr,y_tr[:,:-1]], y_tr.reshape(y_tr.shape[0],y_tr.shape[1], 1)[:,1:] ,epochs=3,callbacks=[es],batch_size=64, validation_data=([x_val,y_val[:,:-1]], y_val.reshape(y_val.shape[0],y_val.shape[1], 1)[:,1:]))"
      ],
      "execution_count": 0,
      "outputs": [
        {
          "output_type": "stream",
          "text": [
            "Epoch 1/3\n",
            "322/322 [==============================] - 243s 755ms/step - loss: 0.1000 - accuracy: 0.9636 - val_loss: 0.1138 - val_accuracy: 0.9606\n",
            "Epoch 2/3\n",
            "322/322 [==============================] - 242s 752ms/step - loss: 0.0967 - accuracy: 0.9645 - val_loss: 0.1127 - val_accuracy: 0.9614\n",
            "Epoch 3/3\n",
            "322/322 [==============================] - 241s 750ms/step - loss: 0.0938 - accuracy: 0.9657 - val_loss: 0.1131 - val_accuracy: 0.9619\n"
          ],
          "name": "stdout"
        }
      ]
    },
    {
      "cell_type": "code",
      "metadata": {
        "id": "OLtxX4uhavmi",
        "colab_type": "code",
        "outputId": "fc733370-2d71-4612-ec02-dca071e689f1",
        "colab": {
          "base_uri": "https://localhost:8080/",
          "height": 34
        }
      },
      "source": [
        "# model_save_name = 'weather_summ_unidir.h5'\n",
        "# path = F\"/content/gdrive/My Drive/Resume DL Projects/{model_save_name}\" \n",
        "# # torch.save(model.state_dict(), path)\n",
        "# model.save(path)\n",
        "# print(\"Saved model to disk\")"
      ],
      "execution_count": 0,
      "outputs": [
        {
          "output_type": "stream",
          "text": [
            "Saved model to disk\n"
          ],
          "name": "stdout"
        }
      ]
    },
    {
      "cell_type": "code",
      "metadata": {
        "id": "Vc4YJuXZbwio",
        "colab_type": "code",
        "colab": {}
      },
      "source": [
        "# # save model and architecture to single file\n",
        "# model.save(\"model.h5\")\n",
        "# print(\"Saved model to disk\")"
      ],
      "execution_count": 0,
      "outputs": []
    },
    {
      "cell_type": "code",
      "metadata": {
        "id": "28awpsmOb0kL",
        "colab_type": "code",
        "colab": {}
      },
      "source": [
        "from tensorflow.keras.models import load_model\n",
        " \n",
        "# # load model\n",
        "# model = load_model('model.h5')\n",
        "# # summarize model.\n",
        "# model.summary()"
      ],
      "execution_count": 0,
      "outputs": []
    },
    {
      "cell_type": "code",
      "metadata": {
        "id": "FzTfjASjWzHW",
        "colab_type": "code",
        "outputId": "a001a9c4-a4f5-4518-b481-f1b053d047b1",
        "colab": {
          "base_uri": "https://localhost:8080/",
          "height": 34
        }
      },
      "source": [
        "model_save_name = 'unidir_model.h5'\n",
        "path = F\"/content/gdrive/My Drive/Resume DL Projects/{model_save_name}\" \n",
        "model.save(path)\n",
        "print(\"Saved model to disk\")\n",
        "\n",
        "# model_save_name = 'weather_summ_unidir.h5'\n",
        "# path = F\"/content/gdrive/My Drive/Resume DL Projects/{model_save_name}\" \n",
        "# model = load_model(path, custom_objects={'AttentionLayer': AttentionLayer})\n",
        "# # # # summarize model.\n",
        "# model.summary()"
      ],
      "execution_count": 0,
      "outputs": [
        {
          "output_type": "stream",
          "text": [
            "Saved model to disk\n"
          ],
          "name": "stdout"
        }
      ]
    },
    {
      "cell_type": "code",
      "metadata": {
        "id": "-40wYLAH5vRZ",
        "colab_type": "code",
        "outputId": "085a1e1b-b280-4bcb-d0da-acdf4716502c",
        "colab": {
          "base_uri": "https://localhost:8080/",
          "height": 268
        }
      },
      "source": [
        "from matplotlib import pyplot\n",
        "pyplot.plot(history.history['loss'], label='train')\n",
        "pyplot.plot(history.history['val_loss'], label='test')\n",
        "pyplot.legend()\n",
        "pyplot.show()"
      ],
      "execution_count": 0,
      "outputs": [
        {
          "output_type": "display_data",
          "data": {
            "image/png": "[encoded data removed]",
            "text/plain": [
              "<Figure size 432x288 with 1 Axes>"
            ]
          },
          "metadata": {
            "tags": [],
            "needs_background": "light"
          }
        }
      ]
    },
    {
      "cell_type": "code",
      "metadata": {
        "id": "NHuno8p75vKE",
        "colab_type": "code",
        "colab": {}
      },
      "source": [
        "# Encode the input sequence to get the feature vector\n",
        "encoder_model = Model(inputs=encoder_inputs,outputs=[encoder_outputs, state_h, state_c])\n",
        "\n",
        "# Decoder setup\n",
        "# Below tensors will hold the states of the previous time step\n",
        "decoder_state_input_h = Input(shape=(latent_dim,))\n",
        "decoder_state_input_c = Input(shape=(latent_dim,))\n",
        "decoder_hidden_state_input = Input(shape=(max_text_len,latent_dim))\n",
        "\n",
        "# Get the embeddings of the decoder sequence\n",
        "dec_emb2= dec_emb_layer(decoder_inputs) \n",
        "# To predict the next word in the sequence, set the initial states to the states from the previous time step\n",
        "decoder_outputs2, state_h2, state_c2 = decoder_lstm(dec_emb2, initial_state=[decoder_state_input_h, decoder_state_input_c])\n",
        "\n",
        "#attention inference\n",
        "attn_out_inf, attn_states_inf = attn_layer([decoder_hidden_state_input, decoder_outputs2])\n",
        "decoder_inf_concat = Concatenate(axis=-1, name='concat')([decoder_outputs2, attn_out_inf])\n",
        "\n",
        "# A dense softmax layer to generate prob dist. over the target vocabulary\n",
        "decoder_outputs2 = decoder_dense(decoder_inf_concat) \n",
        "\n",
        "# Final decoder model\n",
        "decoder_model = Model(\n",
        "    [decoder_inputs] + [decoder_hidden_state_input,decoder_state_input_h, decoder_state_input_c],\n",
        "    [decoder_outputs2] + [state_h2, state_c2])"
      ],
      "execution_count": 0,
      "outputs": []
    },
    {
      "cell_type": "code",
      "metadata": {
        "id": "F3M-PqdJ5vHC",
        "colab_type": "code",
        "colab": {}
      },
      "source": [
        "def decode_sequence(input_seq):\n",
        "    # Encode the input as state vectors.\n",
        "    e_out, e_h, e_c = encoder_model.predict(input_seq)\n",
        "    \n",
        "    # Generate empty target sequence of length 1.\n",
        "    target_seq = np.zeros((1,1))\n",
        "    # e_h = e_h*0\n",
        "    # e_c = e_c*0\n",
        "\n",
        "    # Populate the first word of target sequence with the start word.\n",
        "    target_seq[0, 0] = target_word_index['sostok']\n",
        "\n",
        "    stop_condition = False\n",
        "    decoded_sentence = ''\n",
        "    while not stop_condition:\n",
        "      \n",
        "        output_tokens, h, c = decoder_model.predict([target_seq] + [e_out, e_h, e_c])\n",
        "\n",
        "        # Sample a token\n",
        "        sampled_token_index = np.argmax(output_tokens[0, -1, :])\n",
        "        sampled_token = reverse_target_word_index[sampled_token_index]\n",
        "        # print(sampled_token)\n",
        "        if(sampled_token!='eostok'):\n",
        "            decoded_sentence += ' '+sampled_token\n",
        "\n",
        "        # Exit condition: either hit max length or find stop word.\n",
        "        if (sampled_token == 'eostok'  or len(decoded_sentence.split()) >= (max_summary_len-1)):\n",
        "            stop_condition = True\n",
        "\n",
        "        # Update the target sequence (of length 1).\n",
        "        target_seq = np.zeros((1,1))\n",
        "        target_seq[0, 0] = sampled_token_index\n",
        "\n",
        "        # Update internal states\n",
        "        e_h, e_c = h, c\n",
        "\n",
        "    return decoded_sentence"
      ],
      "execution_count": 0,
      "outputs": []
    },
    {
      "cell_type": "code",
      "metadata": {
        "id": "XnLCbbxE5vDp",
        "colab_type": "code",
        "colab": {}
      },
      "source": [
        "def seq2summary(input_seq):\n",
        "    newString=''\n",
        "    for i in input_seq:\n",
        "        if((i!=0 and i!=target_word_index['sostok']) and i!=target_word_index['eostok']):\n",
        "            newString=newString+reverse_target_word_index[i]+' '\n",
        "    return newString\n",
        "\n",
        "def seq2text(input_seq):\n",
        "    newString=''\n",
        "    for i in input_seq:\n",
        "        if(i!=0):\n",
        "            newString=newString+reverse_source_word_index[i]+' '\n",
        "    return newString"
      ],
      "execution_count": 0,
      "outputs": []
    },
    {
      "cell_type": "code",
      "metadata": {
        "id": "neS0-iA_56NQ",
        "colab_type": "code",
        "outputId": "a288ca73-8393-4b77-bd83-5a80dde3f4eb",
        "colab": {
          "base_uri": "https://localhost:8080/",
          "height": 462
        }
      },
      "source": [
        "for i in range(0,5):\n",
        "    print(\"Tabular data:\",seq2text(x_tr[i]))\n",
        "    print(\"Original summary:\",seq2summary(y_tr[i]))\n",
        "    print(\"Predicted summary:\",decode_sequence(x_tr[i].reshape(1,max_text_len)))\n",
        "    print(\"\\n\")"
      ],
      "execution_count": 0,
      "outputs": [
        {
          "output_type": "stream",
          "text": [
            "Tabular data: temperature time 17 30 min 67 mean 70 max 77 windchill time 17 30 min 0 mean 0 max 0 windspeed time 17 30 min 11 mean 12 max 16 mode bucket 0 20 2 10 20 winddir time 17 30 mode ese gust time 17 30 min 0 mean 3 max 21 skycover time 17 30 mode bucket 0 100 4 25 50 skycover time 17 21 mode bucket 0 100 4 25 50 skycover time 17 26 mode bucket 0 100 4 25 50 skycover time 21 30 mode bucket 0 100 4 25 50 skycover time 26 30 mode bucket 0 100 4 25 50 precippotential time 17 30 min 2 mean 4 max 5 \n",
            "Original summary: partly cloudy with a low around 67 east wind between 11 and 13 mph \n",
            "Predicted summary:  partly cloudy with a low around 67 east wind between 11 and 14 mph\n",
            "\n",
            "\n",
            "Tabular data: max 9 mode bucket 0 20 2 0 10 winddir time 6 21 mode nw gust time 6 21 min 0 mean 0 max 0 skycover time 6 21 mode bucket 0 100 4 75 100 skycover time 6 9 mode bucket 0 100 4 75 100 skycover time 6 13 mode bucket 0 100 4 75 100 skycover time 9 21 mode bucket 0 100 4 75 100 skycover time 13 21 mode bucket 0 100 4 50 75 precippotential time 6 21 min 17 mean 36 max 60 snowchance time 6 21 mode chc snowchance time 6 9 mode lkly snowchance time 6 13 mode lkly snowchance time 9 21 mode chc snowchance time 13 21 mode schc \n",
            "Original summary: snow likely mainly before 11am mostly cloudy with a high near 37 east wind 6 to 9 mph becoming northwest chance of precipitation is 60 new snow accumulation of less than one inch possible \n",
            "Predicted summary:  a chance of rain or drizzle mainly before noon patchy fog before noon otherwise mostly cloudy with a high near 55 calm wind becoming southwest between 4 and 7 mph chance of precipitation is 40\n",
            "\n",
            "\n",
            "Tabular data: windchill time 17 30 min 35 mean 36 max 39 windspeed time 17 30 min 10 mean 14 max 16 mode bucket 0 20 2 10 20 winddir time 17 30 mode sse gust time 17 30 min 0 mean 0 max 0 skycover time 17 30 mode bucket 0 100 4 50 75 skycover time 17 21 mode bucket 0 100 4 50 75 skycover time 17 26 mode bucket 0 100 4 50 75 skycover time 21 30 mode bucket 0 100 4 50 75 skycover time 26 30 mode bucket 0 100 4 75 100 precippotential time 17 30 min 5 mean 27 max 77 rainchance time 21 30 mode schc rainchance time 26 30 mode def \n",
            "Original summary: occasional rain mainly after 3am low around 42 south wind between 11 and 16 mph chance of precipitation is 80 new rainfall amounts between a quarter and half of an inch possible \n",
            "Predicted summary:  occasional rain mainly after 3am low around 41 south wind between 11 and 14 mph chance of precipitation is 80 new rainfall amounts between a quarter and half of an inch possible\n",
            "\n",
            "\n",
            "Tabular data: min 43 mean 44 max 46 windchill time 17 30 min 36 mean 38 max 41 windspeed time 17 30 min 10 mean 10 max 13 mode bucket 0 20 2 10 20 winddir time 17 30 mode se gust time 17 30 min 0 mean 0 max 0 skycover time 17 30 mode bucket 0 100 4 50 75 skycover time 17 21 mode bucket 0 100 4 50 75 skycover time 17 26 mode bucket 0 100 4 50 75 skycover time 21 30 mode bucket 0 100 4 50 75 skycover time 26 30 mode bucket 0 100 4 75 100 precippotential time 17 30 min 5 mean 26 max 75 rainchance time 26 30 mode def \n",
            "Original summary: occasional rain after 3am low around 43 south wind between 10 and 13 mph chance of precipitation is 80 new rainfall amounts between a quarter and half of an inch possible \n",
            "Predicted summary:  occasional rain after 3am low around 41 south wind between 11 and 14 mph chance of precipitation is 80 new rainfall amounts between a quarter and half of an inch possible\n",
            "\n",
            "\n",
            "Tabular data: windchill time 6 21 min 0 mean 38 max 48 windspeed time 6 21 min 3 mean 5 max 7 mode bucket 0 20 2 0 10 winddir time 6 21 mode n gust time 6 21 min 0 mean 0 max 0 skycover time 6 21 mode bucket 0 100 4 25 50 skycover time 6 9 mode bucket 0 100 4 75 100 skycover time 6 13 mode bucket 0 100 4 75 100 skycover time 9 21 mode bucket 0 100 4 25 50 skycover time 13 21 mode bucket 0 100 4 25 50 precippotential time 6 21 min 2 mean 17 max 53 rainchance time 6 9 mode chc rainchance time 6 13 mode chc \n",
            "Original summary: scattered showers mainly before 10am cloudy then gradually becoming mostly sunny with a high near 52 north wind around 7 mph chance of precipitation is 50 new rainfall amounts of less than a tenth of an inch possible \n",
            "Predicted summary:  a chance of snow showers before noon mostly cloudy with a high near 52 calm wind becoming south between 4 and 7 mph chance of precipitation is 40 little or no snow accumulation expected\n",
            "\n",
            "\n"
          ],
          "name": "stdout"
        }
      ]
    },
    {
      "cell_type": "code",
      "metadata": {
        "id": "UPVUyyRICJV8",
        "colab_type": "code",
        "outputId": "6e675d41-566c-44de-e8a1-c1bdc37c8e09",
        "colab": {
          "base_uri": "https://localhost:8080/",
          "height": 462
        }
      },
      "source": [
        "for i in range(0,5):\n",
        "    print(\"Tabular data:\",seq2text(x_val[i]))\n",
        "    print(\"Original summary:\",seq2summary(y_val[i]))\n",
        "    print(\"Predicted summary:\",decode_sequence(x_val[i].reshape(1,max_text_len)))\n",
        "    print(\"\\n\")"
      ],
      "execution_count": 0,
      "outputs": [
        {
          "output_type": "stream",
          "text": [
            "Tabular data: max 14 mode bucket 0 20 2 10 20 winddir time 17 30 mode s gust time 17 30 min 0 mean 1 max 21 skycover time 17 30 mode bucket 0 100 4 75 100 skycover time 17 21 mode bucket 0 100 4 50 75 skycover time 17 26 mode bucket 0 100 4 50 75 skycover time 21 30 mode bucket 0 100 4 75 100 skycover time 26 30 mode bucket 0 100 4 75 100 precippotential time 17 30 min 0 mean 37 max 50 rainchance time 17 30 mode chc rainchance time 17 21 mode chc rainchance time 17 26 mode chc rainchance time 21 30 mode chc rainchance time 26 30 mode chc \n",
            "Original summary: a 40 percent chance of showers mostly cloudy with a low around 50 south wind between 10 and 15 mph with gusts as high as 20 mph \n",
            "Predicted summary:  a chance of showers patchy fog otherwise cloudy with a low around 52 south wind between 11 and 14 mph chance of precipitation is 50 new rainfall amounts between a tenth and quarter of an inch possible\n",
            "\n",
            "\n",
            "Tabular data: max 13 mode bucket 0 20 2 0 10 winddir time 17 30 mode s gust time 17 30 min 0 mean 1 max 20 skycover time 17 30 mode bucket 0 100 4 75 100 skycover time 17 21 mode bucket 0 100 4 75 100 skycover time 17 26 mode bucket 0 100 4 75 100 skycover time 21 30 mode bucket 0 100 4 75 100 skycover time 26 30 mode bucket 0 100 4 75 100 precippotential time 17 30 min 31 mean 47 max 58 rainchance time 17 30 mode chc rainchance time 17 21 mode chc rainchance time 17 26 mode chc rainchance time 21 30 mode chc rainchance time 26 30 mode chc \n",
            "Original summary: showers likely mainly between 10pm and midnight cloudy with a low around 52 south southwest wind between 5 and 10 mph chance of precipitation is 60 \n",
            "Predicted summary:  a chance of showers patchy fog otherwise cloudy with a low around 52 south wind between 6 and 11 mph chance of precipitation is 50 new rainfall amounts between a tenth and quarter of an inch possible\n",
            "\n",
            "\n",
            "Tabular data: max 17 mode bucket 0 20 2 10 20 winddir time 17 30 mode sw gust time 17 30 min 0 mean 16 max 25 skycover time 17 30 mode bucket 0 100 4 50 75 skycover time 17 21 mode bucket 0 100 4 50 75 skycover time 17 26 mode bucket 0 100 4 50 75 skycover time 21 30 mode bucket 0 100 4 50 75 skycover time 26 30 mode bucket 0 100 4 50 75 precippotential time 17 30 min 8 mean 19 max 21 rainchance time 17 30 mode schc rainchance time 17 21 mode schc rainchance time 17 26 mode schc rainchance time 21 30 mode schc rainchance time 26 30 mode schc \n",
            "Original summary: mostly cloudy with a low around 36 southwest wind 10 to 16 mph becoming north northwest winds could gust as high as 21 mph \n",
            "Predicted summary:  a slight chance of showers mostly cloudy with a low around 36 west wind between 11 and 16 mph with gusts as high as 25 mph chance of precipitation is 20\n",
            "\n",
            "\n",
            "Tabular data: temperature time 17 30 min 42 mean 47 max 56 windchill time 17 30 min 0 mean 34 max 50 windspeed time 17 30 min 3 mean 5 max 9 mode bucket 0 20 2 0 10 winddir time 17 30 mode w gust time 17 30 min 0 mean 0 max 0 skycover time 17 30 mode bucket 0 100 4 0 25 skycover time 17 21 mode bucket 0 100 4 0 25 skycover time 17 26 mode bucket 0 100 4 0 25 skycover time 21 30 mode bucket 0 100 4 0 25 skycover time 26 30 mode bucket 0 100 4 25 50 precippotential time 17 30 min 9 mean 9 max 9 \n",
            "Original summary: mostly clear with a low around 42 west wind around 5 mph becoming east \n",
            "Predicted summary:  partly cloudy with a low around 41 west wind around 5 mph\n",
            "\n",
            "\n",
            "Tabular data: temperature time 17 30 min 44 mean 52 max 66 windchill time 17 30 min 0 mean 23 max 49 windspeed time 17 30 min 2 mean 3 max 8 mode bucket 0 20 2 0 10 winddir time 17 30 mode ene gust time 17 30 min 0 mean 0 max 0 skycover time 17 30 mode bucket 0 100 4 0 25 skycover time 17 21 mode bucket 0 100 4 0 25 skycover time 17 26 mode bucket 0 100 4 0 25 skycover time 21 30 mode bucket 0 100 4 0 25 skycover time 26 30 mode bucket 0 100 4 0 25 precippotential time 17 30 min 0 mean 0 max 0 \n",
            "Original summary: mostly clear with a low around 43 east northeast wind around 5 mph becoming calm \n",
            "Predicted summary:  mostly clear with a low around 46 east wind around 5 mph becoming calm\n",
            "\n",
            "\n"
          ],
          "name": "stdout"
        }
      ]
    },
    {
      "cell_type": "code",
      "metadata": {
        "id": "1vjugfXRCP76",
        "colab_type": "code",
        "colab": {}
      },
      "source": [
        "test_num = 200\n",
        "reference = []\n",
        "for i in range(test_num):\n",
        "  reference.append(seq2summary(y_val[i]))\n",
        "\n",
        "prediction = []\n",
        "for i in range(test_num):\n",
        "  prediction.append(decode_sequence(x_val[i].reshape(1,max_text_len)))\n",
        "\n",
        "\n",
        "from nltk.translate.bleu_score import sentence_bleu\n",
        "\n",
        "score = 0.\n",
        "\n",
        "for i in range(len(reference)):\n",
        "    score += sentence_bleu([reference[i].strip().split()], prediction[i].strip().split())\n",
        "\n",
        "score /= len(reference)\n",
        "print(\"The bleu score is: \"+str(score))"
      ],
      "execution_count": 0,
      "outputs": []
    },
    {
      "cell_type": "code",
      "metadata": {
        "id": "S-FYmmhThYIc",
        "colab_type": "code",
        "colab": {}
      },
      "source": [
        "print(\"The bleu score is: \"+str(score))"
      ],
      "execution_count": 0,
      "outputs": []
    },
    {
      "cell_type": "code",
      "metadata": {
        "id": "BBHf2X35h_90",
        "colab_type": "code",
        "colab": {}
      },
      "source": [
        ""
      ],
      "execution_count": 0,
      "outputs": []
    }
  ]
}